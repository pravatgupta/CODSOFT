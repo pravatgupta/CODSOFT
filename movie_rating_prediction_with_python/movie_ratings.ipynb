{
 "cells": [
  {
   "cell_type": "markdown",
   "id": "f2f10231-e6bf-48ca-b68b-71d7b5cbfc9e",
   "metadata": {},
   "source": [
    "\n",
    "# TASK-2 - Movie_Rating_Prediction_With_Python\n",
    "## Author: Pravat Kumar Gupta\n",
    " ## Batch: July A63\n",
    "## Domain: Data Science"
   ]
  },
  {
   "cell_type": "markdown",
   "id": "af9d8aa9-575d-4b44-a6f8-c4cd6669b7c2",
   "metadata": {},
   "source": [
    "\n",
    "\n",
    "## `Importing Libraries`"
   ]
  },
  {
   "cell_type": "code",
   "execution_count": 1,
   "id": "72b021cb-4726-4e02-a4e9-466ae006f419",
   "metadata": {},
   "outputs": [],
   "source": [
    "import pandas as pd\n",
    "import numpy as np\n",
    "import matplotlib.pyplot as plt\n",
    "import seaborn as sns\n",
    "from sklearn.model_selection import train_test_split\n",
    "from sklearn.metrics import mean_absolute_error, mean_squared_error, r2_score\n",
    "from sklearn.linear_model import SGDRegressor\n",
    "from sklearn.preprocessing import StandardScaler\n",
    "from sklearn.pipeline import Pipeline"
   ]
  },
  {
   "cell_type": "code",
   "execution_count": 3,
   "id": "b826c478-29ae-42e6-8417-a92979ef04ec",
   "metadata": {},
   "outputs": [
    {
     "data": {
      "text/html": [
       "<div>\n",
       "<style scoped>\n",
       "    .dataframe tbody tr th:only-of-type {\n",
       "        vertical-align: middle;\n",
       "    }\n",
       "\n",
       "    .dataframe tbody tr th {\n",
       "        vertical-align: top;\n",
       "    }\n",
       "\n",
       "    .dataframe thead th {\n",
       "        text-align: right;\n",
       "    }\n",
       "</style>\n",
       "<table border=\"1\" class=\"dataframe\">\n",
       "  <thead>\n",
       "    <tr style=\"text-align: right;\">\n",
       "      <th></th>\n",
       "      <th>Name</th>\n",
       "      <th>Year</th>\n",
       "      <th>Duration</th>\n",
       "      <th>Genre</th>\n",
       "      <th>Rating</th>\n",
       "      <th>Votes</th>\n",
       "      <th>Director</th>\n",
       "      <th>Actor 1</th>\n",
       "      <th>Actor 2</th>\n",
       "      <th>Actor 3</th>\n",
       "    </tr>\n",
       "  </thead>\n",
       "  <tbody>\n",
       "    <tr>\n",
       "      <th>0</th>\n",
       "      <td></td>\n",
       "      <td>NaN</td>\n",
       "      <td>NaN</td>\n",
       "      <td>Drama</td>\n",
       "      <td>NaN</td>\n",
       "      <td>NaN</td>\n",
       "      <td>J.S. Randhawa</td>\n",
       "      <td>Manmauji</td>\n",
       "      <td>Birbal</td>\n",
       "      <td>Rajendra Bhatia</td>\n",
       "    </tr>\n",
       "    <tr>\n",
       "      <th>1</th>\n",
       "      <td>#Gadhvi (He thought he was Gandhi)</td>\n",
       "      <td>(2019)</td>\n",
       "      <td>109 min</td>\n",
       "      <td>Drama</td>\n",
       "      <td>7.0</td>\n",
       "      <td>8</td>\n",
       "      <td>Gaurav Bakshi</td>\n",
       "      <td>Rasika Dugal</td>\n",
       "      <td>Vivek Ghamande</td>\n",
       "      <td>Arvind Jangid</td>\n",
       "    </tr>\n",
       "    <tr>\n",
       "      <th>2</th>\n",
       "      <td>#Homecoming</td>\n",
       "      <td>(2021)</td>\n",
       "      <td>90 min</td>\n",
       "      <td>Drama, Musical</td>\n",
       "      <td>NaN</td>\n",
       "      <td>NaN</td>\n",
       "      <td>Soumyajit Majumdar</td>\n",
       "      <td>Sayani Gupta</td>\n",
       "      <td>Plabita Borthakur</td>\n",
       "      <td>Roy Angana</td>\n",
       "    </tr>\n",
       "    <tr>\n",
       "      <th>3</th>\n",
       "      <td>#Yaaram</td>\n",
       "      <td>(2019)</td>\n",
       "      <td>110 min</td>\n",
       "      <td>Comedy, Romance</td>\n",
       "      <td>4.4</td>\n",
       "      <td>35</td>\n",
       "      <td>Ovais Khan</td>\n",
       "      <td>Prateik</td>\n",
       "      <td>Ishita Raj</td>\n",
       "      <td>Siddhant Kapoor</td>\n",
       "    </tr>\n",
       "    <tr>\n",
       "      <th>4</th>\n",
       "      <td>...And Once Again</td>\n",
       "      <td>(2010)</td>\n",
       "      <td>105 min</td>\n",
       "      <td>Drama</td>\n",
       "      <td>NaN</td>\n",
       "      <td>NaN</td>\n",
       "      <td>Amol Palekar</td>\n",
       "      <td>Rajat Kapoor</td>\n",
       "      <td>Rituparna Sengupta</td>\n",
       "      <td>Antara Mali</td>\n",
       "    </tr>\n",
       "  </tbody>\n",
       "</table>\n",
       "</div>"
      ],
      "text/plain": [
       "                                 Name    Year Duration            Genre  \\\n",
       "0                                         NaN      NaN            Drama   \n",
       "1  #Gadhvi (He thought he was Gandhi)  (2019)  109 min            Drama   \n",
       "2                         #Homecoming  (2021)   90 min   Drama, Musical   \n",
       "3                             #Yaaram  (2019)  110 min  Comedy, Romance   \n",
       "4                   ...And Once Again  (2010)  105 min            Drama   \n",
       "\n",
       "   Rating Votes            Director       Actor 1             Actor 2  \\\n",
       "0     NaN   NaN       J.S. Randhawa      Manmauji              Birbal   \n",
       "1     7.0     8       Gaurav Bakshi  Rasika Dugal      Vivek Ghamande   \n",
       "2     NaN   NaN  Soumyajit Majumdar  Sayani Gupta   Plabita Borthakur   \n",
       "3     4.4    35          Ovais Khan       Prateik          Ishita Raj   \n",
       "4     NaN   NaN        Amol Palekar  Rajat Kapoor  Rituparna Sengupta   \n",
       "\n",
       "           Actor 3  \n",
       "0  Rajendra Bhatia  \n",
       "1    Arvind Jangid  \n",
       "2       Roy Angana  \n",
       "3  Siddhant Kapoor  \n",
       "4      Antara Mali  "
      ]
     },
     "execution_count": 3,
     "metadata": {},
     "output_type": "execute_result"
    }
   ],
   "source": [
    "df = pd.read_csv(\"D:\\Data Analytics\\INEURON.AI\\PROJECTS\\Codsoft\\IMDb Movies India.csv\", encoding='ISO-8859-1')\n",
    "df.head()"
   ]
  },
  {
   "cell_type": "markdown",
   "id": "f4c97be1-6bf0-472f-8ef3-4f463ab7ff7f",
   "metadata": {},
   "source": [
    "## Data Preprocessing:"
   ]
  },
  {
   "cell_type": "code",
   "execution_count": 4,
   "id": "4d26c7cf-7b2e-4aaa-b987-61c088a51bde",
   "metadata": {},
   "outputs": [],
   "source": [
    "def dataoverview (df,message):\n",
    "    print(f'{message}:\\n')\n",
    "    print(\"Rows:\", df.shape[0])\n",
    "    print(\"\\nNumber of features:\", df.shape[1])\n",
    "    print(\"\\nFeatures:\")\n",
    "    print(df.columns.tolist())\n",
    "    print(\"\\nMissing values:\", df.isnull().sum().values.sum())\n",
    "    print(\"\\nUnique values:\")\n",
    "    print(df.nunique())"
   ]
  },
  {
   "cell_type": "code",
   "execution_count": 5,
   "id": "4cdbe7ad-150f-4c6e-a44b-93846fdb2f74",
   "metadata": {},
   "outputs": [
    {
     "name": "stdout",
     "output_type": "stream",
     "text": [
      "Overview of the training dataset:\n",
      "\n",
      "Rows: 15509\n",
      "\n",
      "Number of features: 10\n",
      "\n",
      "Features:\n",
      "['Name', 'Year', 'Duration', 'Genre', 'Rating', 'Votes', 'Director', 'Actor 1', 'Actor 2', 'Actor 3']\n",
      "\n",
      "Missing values: 33523\n",
      "\n",
      "Unique values:\n",
      "Name        13838\n",
      "Year          102\n",
      "Duration      182\n",
      "Genre         485\n",
      "Rating         84\n",
      "Votes        2034\n",
      "Director     5938\n",
      "Actor 1      4718\n",
      "Actor 2      4891\n",
      "Actor 3      4820\n",
      "dtype: int64\n"
     ]
    }
   ],
   "source": [
    "dataoverview(df, 'Overview of the training dataset')"
   ]
  },
  {
   "cell_type": "code",
   "execution_count": 6,
   "id": "70ebe42f-4d00-416e-bc21-22eee1fbd6d0",
   "metadata": {},
   "outputs": [
    {
     "data": {
      "text/plain": [
       "Name           0\n",
       "Year         528\n",
       "Duration    8269\n",
       "Genre       1877\n",
       "Rating      7590\n",
       "Votes       7589\n",
       "Director     525\n",
       "Actor 1     1617\n",
       "Actor 2     2384\n",
       "Actor 3     3144\n",
       "dtype: int64"
      ]
     },
     "execution_count": 6,
     "metadata": {},
     "output_type": "execute_result"
    }
   ],
   "source": [
    "df.isna().sum()"
   ]
  },
  {
   "cell_type": "code",
   "execution_count": 7,
   "id": "464116d0-370f-4ec2-838d-83964fc96708",
   "metadata": {},
   "outputs": [
    {
     "name": "stdout",
     "output_type": "stream",
     "text": [
      "<class 'pandas.core.frame.DataFrame'>\n",
      "RangeIndex: 15509 entries, 0 to 15508\n",
      "Data columns (total 10 columns):\n",
      " #   Column    Non-Null Count  Dtype  \n",
      "---  ------    --------------  -----  \n",
      " 0   Name      15509 non-null  object \n",
      " 1   Year      14981 non-null  object \n",
      " 2   Duration  7240 non-null   object \n",
      " 3   Genre     13632 non-null  object \n",
      " 4   Rating    7919 non-null   float64\n",
      " 5   Votes     7920 non-null   object \n",
      " 6   Director  14984 non-null  object \n",
      " 7   Actor 1   13892 non-null  object \n",
      " 8   Actor 2   13125 non-null  object \n",
      " 9   Actor 3   12365 non-null  object \n",
      "dtypes: float64(1), object(9)\n",
      "memory usage: 1.2+ MB\n"
     ]
    }
   ],
   "source": [
    "df.info()"
   ]
  },
  {
   "cell_type": "code",
   "execution_count": 8,
   "id": "ed2df4e3-0e73-4a90-b7cd-0999e2173e55",
   "metadata": {},
   "outputs": [
    {
     "data": {
      "text/plain": [
       "Genre\n",
       "Drama                         2780\n",
       "Action                        1289\n",
       "Thriller                       779\n",
       "Romance                        708\n",
       "Drama, Romance                 524\n",
       "                              ... \n",
       "Action, Musical, War             1\n",
       "Horror, Crime, Thriller          1\n",
       "Animation, Comedy                1\n",
       "Romance, Action, Crime           1\n",
       "Adventure, Fantasy, Sci-Fi       1\n",
       "Name: count, Length: 485, dtype: int64"
      ]
     },
     "execution_count": 8,
     "metadata": {},
     "output_type": "execute_result"
    }
   ],
   "source": [
    "#genre, director, and actors values counts\n",
    "df['Genre'].value_counts()"
   ]
  },
  {
   "cell_type": "code",
   "execution_count": 9,
   "id": "f035cfa9-59b1-4318-b68c-d8aacc6491f1",
   "metadata": {},
   "outputs": [
    {
     "data": {
      "text/plain": [
       "Director\n",
       "Jayant Desai        58\n",
       "Kanti Shah          57\n",
       "Babubhai Mistry     50\n",
       "Mahesh Bhatt        48\n",
       "Master Bhagwan      47\n",
       "                    ..\n",
       "Naeem Siddiqui       1\n",
       "Shadaab Khan         1\n",
       "Mystelle Brabbee     1\n",
       "Kunal Shivdasani     1\n",
       "Kiran Thej           1\n",
       "Name: count, Length: 5938, dtype: int64"
      ]
     },
     "execution_count": 9,
     "metadata": {},
     "output_type": "execute_result"
    }
   ],
   "source": [
    "df['Director'].value_counts()"
   ]
  },
  {
   "cell_type": "code",
   "execution_count": 10,
   "id": "29549690-15a8-48fc-8f40-30cd5991143b",
   "metadata": {},
   "outputs": [
    {
     "data": {
      "text/html": [
       "<div>\n",
       "<style scoped>\n",
       "    .dataframe tbody tr th:only-of-type {\n",
       "        vertical-align: middle;\n",
       "    }\n",
       "\n",
       "    .dataframe tbody tr th {\n",
       "        vertical-align: top;\n",
       "    }\n",
       "\n",
       "    .dataframe thead th {\n",
       "        text-align: right;\n",
       "    }\n",
       "</style>\n",
       "<table border=\"1\" class=\"dataframe\">\n",
       "  <thead>\n",
       "    <tr style=\"text-align: right;\">\n",
       "      <th></th>\n",
       "      <th>Name</th>\n",
       "      <th>Year</th>\n",
       "      <th>Duration</th>\n",
       "      <th>Genre</th>\n",
       "      <th>Rating</th>\n",
       "      <th>Votes</th>\n",
       "      <th>Director</th>\n",
       "      <th>Actor 1</th>\n",
       "      <th>Actor 2</th>\n",
       "      <th>Actor 3</th>\n",
       "    </tr>\n",
       "  </thead>\n",
       "  <tbody>\n",
       "    <tr>\n",
       "      <th>0</th>\n",
       "      <td></td>\n",
       "      <td>NaN</td>\n",
       "      <td>NaN</td>\n",
       "      <td>Drama</td>\n",
       "      <td>NaN</td>\n",
       "      <td>NaN</td>\n",
       "      <td>J.S. Randhawa</td>\n",
       "      <td>Manmauji</td>\n",
       "      <td>Birbal</td>\n",
       "      <td>Rajendra Bhatia</td>\n",
       "    </tr>\n",
       "    <tr>\n",
       "      <th>1</th>\n",
       "      <td>#Gadhvi (He thought he was Gandhi)</td>\n",
       "      <td>(2019)</td>\n",
       "      <td>109 min</td>\n",
       "      <td>Drama</td>\n",
       "      <td>7.0</td>\n",
       "      <td>8</td>\n",
       "      <td>Gaurav Bakshi</td>\n",
       "      <td>Rasika Dugal</td>\n",
       "      <td>Vivek Ghamande</td>\n",
       "      <td>Arvind Jangid</td>\n",
       "    </tr>\n",
       "    <tr>\n",
       "      <th>2</th>\n",
       "      <td>#Homecoming</td>\n",
       "      <td>(2021)</td>\n",
       "      <td>90 min</td>\n",
       "      <td>Drama, Musical</td>\n",
       "      <td>NaN</td>\n",
       "      <td>NaN</td>\n",
       "      <td>Soumyajit Majumdar</td>\n",
       "      <td>Sayani Gupta</td>\n",
       "      <td>Plabita Borthakur</td>\n",
       "      <td>Roy Angana</td>\n",
       "    </tr>\n",
       "    <tr>\n",
       "      <th>3</th>\n",
       "      <td>#Yaaram</td>\n",
       "      <td>(2019)</td>\n",
       "      <td>110 min</td>\n",
       "      <td>Comedy, Romance</td>\n",
       "      <td>4.4</td>\n",
       "      <td>35</td>\n",
       "      <td>Ovais Khan</td>\n",
       "      <td>Prateik</td>\n",
       "      <td>Ishita Raj</td>\n",
       "      <td>Siddhant Kapoor</td>\n",
       "    </tr>\n",
       "    <tr>\n",
       "      <th>4</th>\n",
       "      <td>...And Once Again</td>\n",
       "      <td>(2010)</td>\n",
       "      <td>105 min</td>\n",
       "      <td>Drama</td>\n",
       "      <td>NaN</td>\n",
       "      <td>NaN</td>\n",
       "      <td>Amol Palekar</td>\n",
       "      <td>Rajat Kapoor</td>\n",
       "      <td>Rituparna Sengupta</td>\n",
       "      <td>Antara Mali</td>\n",
       "    </tr>\n",
       "    <tr>\n",
       "      <th>5</th>\n",
       "      <td>...Aur Pyaar Ho Gaya</td>\n",
       "      <td>(1997)</td>\n",
       "      <td>147 min</td>\n",
       "      <td>Comedy, Drama, Musical</td>\n",
       "      <td>4.7</td>\n",
       "      <td>827</td>\n",
       "      <td>Rahul Rawail</td>\n",
       "      <td>Bobby Deol</td>\n",
       "      <td>Aishwarya Rai Bachchan</td>\n",
       "      <td>Shammi Kapoor</td>\n",
       "    </tr>\n",
       "    <tr>\n",
       "      <th>6</th>\n",
       "      <td>...Yahaan</td>\n",
       "      <td>(2005)</td>\n",
       "      <td>142 min</td>\n",
       "      <td>Drama, Romance, War</td>\n",
       "      <td>7.4</td>\n",
       "      <td>1,086</td>\n",
       "      <td>Shoojit Sircar</td>\n",
       "      <td>Jimmy Sheirgill</td>\n",
       "      <td>Minissha Lamba</td>\n",
       "      <td>Yashpal Sharma</td>\n",
       "    </tr>\n",
       "    <tr>\n",
       "      <th>7</th>\n",
       "      <td>.in for Motion</td>\n",
       "      <td>(2008)</td>\n",
       "      <td>59 min</td>\n",
       "      <td>Documentary</td>\n",
       "      <td>NaN</td>\n",
       "      <td>NaN</td>\n",
       "      <td>Anirban Datta</td>\n",
       "      <td>NaN</td>\n",
       "      <td>NaN</td>\n",
       "      <td>NaN</td>\n",
       "    </tr>\n",
       "    <tr>\n",
       "      <th>8</th>\n",
       "      <td>?: A Question Mark</td>\n",
       "      <td>(2012)</td>\n",
       "      <td>82 min</td>\n",
       "      <td>Horror, Mystery, Thriller</td>\n",
       "      <td>5.6</td>\n",
       "      <td>326</td>\n",
       "      <td>Allyson Patel</td>\n",
       "      <td>Yash Dave</td>\n",
       "      <td>Muntazir Ahmad</td>\n",
       "      <td>Kiran Bhatia</td>\n",
       "    </tr>\n",
       "    <tr>\n",
       "      <th>9</th>\n",
       "      <td>@Andheri</td>\n",
       "      <td>(2014)</td>\n",
       "      <td>116 min</td>\n",
       "      <td>Action, Crime, Thriller</td>\n",
       "      <td>4.0</td>\n",
       "      <td>11</td>\n",
       "      <td>Biju Bhaskar Nair</td>\n",
       "      <td>Augustine</td>\n",
       "      <td>Fathima Babu</td>\n",
       "      <td>Byon</td>\n",
       "    </tr>\n",
       "  </tbody>\n",
       "</table>\n",
       "</div>"
      ],
      "text/plain": [
       "                                 Name    Year Duration  \\\n",
       "0                                         NaN      NaN   \n",
       "1  #Gadhvi (He thought he was Gandhi)  (2019)  109 min   \n",
       "2                         #Homecoming  (2021)   90 min   \n",
       "3                             #Yaaram  (2019)  110 min   \n",
       "4                   ...And Once Again  (2010)  105 min   \n",
       "5                ...Aur Pyaar Ho Gaya  (1997)  147 min   \n",
       "6                           ...Yahaan  (2005)  142 min   \n",
       "7                      .in for Motion  (2008)   59 min   \n",
       "8                  ?: A Question Mark  (2012)   82 min   \n",
       "9                            @Andheri  (2014)  116 min   \n",
       "\n",
       "                       Genre  Rating  Votes            Director  \\\n",
       "0                      Drama     NaN    NaN       J.S. Randhawa   \n",
       "1                      Drama     7.0      8       Gaurav Bakshi   \n",
       "2             Drama, Musical     NaN    NaN  Soumyajit Majumdar   \n",
       "3            Comedy, Romance     4.4     35          Ovais Khan   \n",
       "4                      Drama     NaN    NaN        Amol Palekar   \n",
       "5     Comedy, Drama, Musical     4.7    827        Rahul Rawail   \n",
       "6        Drama, Romance, War     7.4  1,086      Shoojit Sircar   \n",
       "7                Documentary     NaN    NaN       Anirban Datta   \n",
       "8  Horror, Mystery, Thriller     5.6    326       Allyson Patel   \n",
       "9    Action, Crime, Thriller     4.0     11   Biju Bhaskar Nair   \n",
       "\n",
       "           Actor 1                 Actor 2          Actor 3  \n",
       "0         Manmauji                  Birbal  Rajendra Bhatia  \n",
       "1     Rasika Dugal          Vivek Ghamande    Arvind Jangid  \n",
       "2     Sayani Gupta       Plabita Borthakur       Roy Angana  \n",
       "3          Prateik              Ishita Raj  Siddhant Kapoor  \n",
       "4     Rajat Kapoor      Rituparna Sengupta      Antara Mali  \n",
       "5       Bobby Deol  Aishwarya Rai Bachchan    Shammi Kapoor  \n",
       "6  Jimmy Sheirgill          Minissha Lamba   Yashpal Sharma  \n",
       "7              NaN                     NaN              NaN  \n",
       "8        Yash Dave          Muntazir Ahmad     Kiran Bhatia  \n",
       "9        Augustine            Fathima Babu             Byon  "
      ]
     },
     "execution_count": 10,
     "metadata": {},
     "output_type": "execute_result"
    }
   ],
   "source": [
    "\n",
    "df.head(10)"
   ]
  },
  {
   "cell_type": "code",
   "execution_count": 11,
   "id": "1efb6242-6f1f-4b73-8a81-f765f81408be",
   "metadata": {},
   "outputs": [
    {
     "data": {
      "text/plain": [
       "Name          0\n",
       "Year          0\n",
       "Duration      0\n",
       "Genre        31\n",
       "Rating        0\n",
       "Votes         0\n",
       "Director      1\n",
       "Actor 1      75\n",
       "Actor 2     117\n",
       "Actor 3     163\n",
       "dtype: int64"
      ]
     },
     "execution_count": 11,
     "metadata": {},
     "output_type": "execute_result"
    }
   ],
   "source": [
    "# As we are going to predict movie ratings based on fdf.dropna(subset=['Name','Year','Duration','Votes','Rating'],inplace=True)eatures, we need to remove null values from features that can directly influence the results.\n",
    "df.dropna(subset=['Name','Year','Duration','Votes','Rating'],inplace=True)\n",
    "df.isna().sum()"
   ]
  },
  {
   "cell_type": "code",
   "execution_count": 12,
   "id": "dc2d2e0a-d129-47fb-ad01-0ede0b5abb9f",
   "metadata": {},
   "outputs": [],
   "source": [
    "# Remove parentheses from 'Year' column and convert to integer\n",
    "df['Year'] = df['Year'].str.strip('()').astype(int)"
   ]
  },
  {
   "cell_type": "code",
   "execution_count": 13,
   "id": "b85a2e05-134f-4e6b-bef0-10b4e8310dcd",
   "metadata": {},
   "outputs": [],
   "source": [
    "# Remove commas from 'Votes' column and convert to integer\n",
    "df['Votes'] = df['Votes'].str.replace(',', '').astype(int)"
   ]
  },
  {
   "cell_type": "code",
   "execution_count": 14,
   "id": "4c8da25b-8b78-4634-bb1e-ee987c3511ea",
   "metadata": {},
   "outputs": [],
   "source": [
    "# Remove min from 'Duration' column and Duration onvert to integer\n",
    "df['Duration'] = df['Duration'].str.replace('min', '').astype(int)"
   ]
  },
  {
   "cell_type": "code",
   "execution_count": 15,
   "id": "18fb79c8-054f-41db-90b6-57173d813423",
   "metadata": {},
   "outputs": [
    {
     "name": "stdout",
     "output_type": "stream",
     "text": [
      "<class 'pandas.core.frame.DataFrame'>\n",
      "Index: 5851 entries, 1 to 15508\n",
      "Data columns (total 10 columns):\n",
      " #   Column    Non-Null Count  Dtype  \n",
      "---  ------    --------------  -----  \n",
      " 0   Name      5851 non-null   object \n",
      " 1   Year      5851 non-null   int32  \n",
      " 2   Duration  5851 non-null   int32  \n",
      " 3   Genre     5820 non-null   object \n",
      " 4   Rating    5851 non-null   float64\n",
      " 5   Votes     5851 non-null   int32  \n",
      " 6   Director  5850 non-null   object \n",
      " 7   Actor 1   5776 non-null   object \n",
      " 8   Actor 2   5734 non-null   object \n",
      " 9   Actor 3   5688 non-null   object \n",
      "dtypes: float64(1), int32(3), object(6)\n",
      "memory usage: 434.3+ KB\n"
     ]
    }
   ],
   "source": [
    "df.info()"
   ]
  },
  {
   "cell_type": "code",
   "execution_count": 16,
   "id": "5d1c64f6-35dd-4c93-8a08-058fae2dcbe3",
   "metadata": {},
   "outputs": [
    {
     "data": {
      "text/html": [
       "<div>\n",
       "<style scoped>\n",
       "    .dataframe tbody tr th:only-of-type {\n",
       "        vertical-align: middle;\n",
       "    }\n",
       "\n",
       "    .dataframe tbody tr th {\n",
       "        vertical-align: top;\n",
       "    }\n",
       "\n",
       "    .dataframe thead th {\n",
       "        text-align: right;\n",
       "    }\n",
       "</style>\n",
       "<table border=\"1\" class=\"dataframe\">\n",
       "  <thead>\n",
       "    <tr style=\"text-align: right;\">\n",
       "      <th></th>\n",
       "      <th>Year</th>\n",
       "      <th>Duration</th>\n",
       "      <th>Rating</th>\n",
       "      <th>Votes</th>\n",
       "    </tr>\n",
       "  </thead>\n",
       "  <tbody>\n",
       "    <tr>\n",
       "      <th>count</th>\n",
       "      <td>5851.000000</td>\n",
       "      <td>5851.000000</td>\n",
       "      <td>5851.000000</td>\n",
       "      <td>5851.000000</td>\n",
       "    </tr>\n",
       "    <tr>\n",
       "      <th>mean</th>\n",
       "      <td>1996.416852</td>\n",
       "      <td>132.294480</td>\n",
       "      <td>5.931875</td>\n",
       "      <td>2611.273116</td>\n",
       "    </tr>\n",
       "    <tr>\n",
       "      <th>std</th>\n",
       "      <td>19.914640</td>\n",
       "      <td>26.555826</td>\n",
       "      <td>1.389942</td>\n",
       "      <td>13433.828528</td>\n",
       "    </tr>\n",
       "    <tr>\n",
       "      <th>min</th>\n",
       "      <td>1931.000000</td>\n",
       "      <td>21.000000</td>\n",
       "      <td>1.100000</td>\n",
       "      <td>5.000000</td>\n",
       "    </tr>\n",
       "    <tr>\n",
       "      <th>25%</th>\n",
       "      <td>1983.000000</td>\n",
       "      <td>117.000000</td>\n",
       "      <td>5.000000</td>\n",
       "      <td>28.000000</td>\n",
       "    </tr>\n",
       "    <tr>\n",
       "      <th>50%</th>\n",
       "      <td>2002.000000</td>\n",
       "      <td>134.000000</td>\n",
       "      <td>6.100000</td>\n",
       "      <td>119.000000</td>\n",
       "    </tr>\n",
       "    <tr>\n",
       "      <th>75%</th>\n",
       "      <td>2013.000000</td>\n",
       "      <td>150.000000</td>\n",
       "      <td>7.000000</td>\n",
       "      <td>862.500000</td>\n",
       "    </tr>\n",
       "    <tr>\n",
       "      <th>max</th>\n",
       "      <td>2021.000000</td>\n",
       "      <td>321.000000</td>\n",
       "      <td>10.000000</td>\n",
       "      <td>591417.000000</td>\n",
       "    </tr>\n",
       "  </tbody>\n",
       "</table>\n",
       "</div>"
      ],
      "text/plain": [
       "              Year     Duration       Rating          Votes\n",
       "count  5851.000000  5851.000000  5851.000000    5851.000000\n",
       "mean   1996.416852   132.294480     5.931875    2611.273116\n",
       "std      19.914640    26.555826     1.389942   13433.828528\n",
       "min    1931.000000    21.000000     1.100000       5.000000\n",
       "25%    1983.000000   117.000000     5.000000      28.000000\n",
       "50%    2002.000000   134.000000     6.100000     119.000000\n",
       "75%    2013.000000   150.000000     7.000000     862.500000\n",
       "max    2021.000000   321.000000    10.000000  591417.000000"
      ]
     },
     "execution_count": 16,
     "metadata": {},
     "output_type": "execute_result"
    }
   ],
   "source": [
    "df.describe()"
   ]
  },
  {
   "cell_type": "code",
   "execution_count": 17,
   "id": "6d3207cd-26b2-4542-93c0-b2717d014c79",
   "metadata": {},
   "outputs": [],
   "source": [
    "# Drop Genre column \n",
    "df.drop('Genre',axis=1,inplace=True)"
   ]
  },
  {
   "cell_type": "code",
   "execution_count": 18,
   "id": "2dc794e2-d0cc-4a8e-876d-a41d51347243",
   "metadata": {},
   "outputs": [
    {
     "data": {
      "text/html": [
       "<div>\n",
       "<style scoped>\n",
       "    .dataframe tbody tr th:only-of-type {\n",
       "        vertical-align: middle;\n",
       "    }\n",
       "\n",
       "    .dataframe tbody tr th {\n",
       "        vertical-align: top;\n",
       "    }\n",
       "\n",
       "    .dataframe thead th {\n",
       "        text-align: right;\n",
       "    }\n",
       "</style>\n",
       "<table border=\"1\" class=\"dataframe\">\n",
       "  <thead>\n",
       "    <tr style=\"text-align: right;\">\n",
       "      <th></th>\n",
       "      <th>Name</th>\n",
       "      <th>Year</th>\n",
       "      <th>Duration</th>\n",
       "      <th>Rating</th>\n",
       "      <th>Votes</th>\n",
       "      <th>Director</th>\n",
       "      <th>Actor 1</th>\n",
       "      <th>Actor 2</th>\n",
       "      <th>Actor 3</th>\n",
       "    </tr>\n",
       "  </thead>\n",
       "  <tbody>\n",
       "    <tr>\n",
       "      <th>1</th>\n",
       "      <td>#Gadhvi (He thought he was Gandhi)</td>\n",
       "      <td>2019</td>\n",
       "      <td>109</td>\n",
       "      <td>7.0</td>\n",
       "      <td>8</td>\n",
       "      <td>Gaurav Bakshi</td>\n",
       "      <td>Rasika Dugal</td>\n",
       "      <td>Vivek Ghamande</td>\n",
       "      <td>Arvind Jangid</td>\n",
       "    </tr>\n",
       "    <tr>\n",
       "      <th>3</th>\n",
       "      <td>#Yaaram</td>\n",
       "      <td>2019</td>\n",
       "      <td>110</td>\n",
       "      <td>4.4</td>\n",
       "      <td>35</td>\n",
       "      <td>Ovais Khan</td>\n",
       "      <td>Prateik</td>\n",
       "      <td>Ishita Raj</td>\n",
       "      <td>Siddhant Kapoor</td>\n",
       "    </tr>\n",
       "    <tr>\n",
       "      <th>5</th>\n",
       "      <td>...Aur Pyaar Ho Gaya</td>\n",
       "      <td>1997</td>\n",
       "      <td>147</td>\n",
       "      <td>4.7</td>\n",
       "      <td>827</td>\n",
       "      <td>Rahul Rawail</td>\n",
       "      <td>Bobby Deol</td>\n",
       "      <td>Aishwarya Rai Bachchan</td>\n",
       "      <td>Shammi Kapoor</td>\n",
       "    </tr>\n",
       "    <tr>\n",
       "      <th>6</th>\n",
       "      <td>...Yahaan</td>\n",
       "      <td>2005</td>\n",
       "      <td>142</td>\n",
       "      <td>7.4</td>\n",
       "      <td>1086</td>\n",
       "      <td>Shoojit Sircar</td>\n",
       "      <td>Jimmy Sheirgill</td>\n",
       "      <td>Minissha Lamba</td>\n",
       "      <td>Yashpal Sharma</td>\n",
       "    </tr>\n",
       "    <tr>\n",
       "      <th>8</th>\n",
       "      <td>?: A Question Mark</td>\n",
       "      <td>2012</td>\n",
       "      <td>82</td>\n",
       "      <td>5.6</td>\n",
       "      <td>326</td>\n",
       "      <td>Allyson Patel</td>\n",
       "      <td>Yash Dave</td>\n",
       "      <td>Muntazir Ahmad</td>\n",
       "      <td>Kiran Bhatia</td>\n",
       "    </tr>\n",
       "  </tbody>\n",
       "</table>\n",
       "</div>"
      ],
      "text/plain": [
       "                                 Name  Year  Duration  Rating  Votes  \\\n",
       "1  #Gadhvi (He thought he was Gandhi)  2019       109     7.0      8   \n",
       "3                             #Yaaram  2019       110     4.4     35   \n",
       "5                ...Aur Pyaar Ho Gaya  1997       147     4.7    827   \n",
       "6                           ...Yahaan  2005       142     7.4   1086   \n",
       "8                  ?: A Question Mark  2012        82     5.6    326   \n",
       "\n",
       "         Director          Actor 1                 Actor 2          Actor 3  \n",
       "1   Gaurav Bakshi     Rasika Dugal          Vivek Ghamande    Arvind Jangid  \n",
       "3      Ovais Khan          Prateik              Ishita Raj  Siddhant Kapoor  \n",
       "5    Rahul Rawail       Bobby Deol  Aishwarya Rai Bachchan    Shammi Kapoor  \n",
       "6  Shoojit Sircar  Jimmy Sheirgill          Minissha Lamba   Yashpal Sharma  \n",
       "8   Allyson Patel        Yash Dave          Muntazir Ahmad     Kiran Bhatia  "
      ]
     },
     "execution_count": 18,
     "metadata": {},
     "output_type": "execute_result"
    }
   ],
   "source": [
    "df.head()"
   ]
  },
  {
   "cell_type": "markdown",
   "id": "cf245d07-ff2b-40c6-a5c6-0ab7c790f3f9",
   "metadata": {},
   "source": [
    "## Exploratory Data Analysis"
   ]
  },
  {
   "cell_type": "code",
   "execution_count": 26,
   "id": "326e04be-d446-4d18-8726-8427fd529122",
   "metadata": {},
   "outputs": [
    {
     "data": {
      "image/png": "[encoded data removed]",
      "text/plain": [
       "<Figure size 1400x700 with 2 Axes>"
      ]
     },
     "metadata": {},
     "output_type": "display_data"
    }
   ],
   "source": [
    "plt.figure(figsize=(14,7))\n",
    "plt.subplot(2,2,1)\n",
    "sns.boxplot(x='Votes', data=df)\n",
    "\n",
    "plt.subplot(2,2,4)\n",
    "sns.scatterplot(x=df['Duration'], y=df['Rating'], data=df)\n",
    "plt.tight_layout()\n",
    "plt.show()"
   ]
  },
  {
   "cell_type": "code",
   "execution_count": 27,
   "id": "8cea21b7-3fcf-4c6c-bfbe-4ccd94d8c39e",
   "metadata": {},
   "outputs": [
    {
     "data": {
      "image/png": "[encoded data removed]",
      "text/plain": [
       "<Figure size 3000x1500 with 4 Axes>"
      ]
     },
     "metadata": {},
     "output_type": "display_data"
    }
   ],
   "source": [
    "df.hist(figsize=(30,15))\n",
    "None"
   ]
  },
  {
   "cell_type": "code",
   "execution_count": 31,
   "id": "ec07ccb7-f128-4684-8496-a9b478472efe",
   "metadata": {},
   "outputs": [
    {
     "data": {
      "text/html": [
       "<div>\n",
       "<style scoped>\n",
       "    .dataframe tbody tr th:only-of-type {\n",
       "        vertical-align: middle;\n",
       "    }\n",
       "\n",
       "    .dataframe tbody tr th {\n",
       "        vertical-align: top;\n",
       "    }\n",
       "\n",
       "    .dataframe thead th {\n",
       "        text-align: right;\n",
       "    }\n",
       "</style>\n",
       "<table border=\"1\" class=\"dataframe\">\n",
       "  <thead>\n",
       "    <tr style=\"text-align: right;\">\n",
       "      <th></th>\n",
       "      <th>Name</th>\n",
       "      <th>Year</th>\n",
       "      <th>Duration</th>\n",
       "      <th>Rating</th>\n",
       "      <th>Votes</th>\n",
       "      <th>Director</th>\n",
       "      <th>Actor 1</th>\n",
       "      <th>Actor 2</th>\n",
       "      <th>Actor 3</th>\n",
       "    </tr>\n",
       "  </thead>\n",
       "  <tbody>\n",
       "    <tr>\n",
       "      <th>1</th>\n",
       "      <td>#Gadhvi (He thought he was Gandhi)</td>\n",
       "      <td>2019</td>\n",
       "      <td>109</td>\n",
       "      <td>7.0</td>\n",
       "      <td>8</td>\n",
       "      <td>Gaurav Bakshi</td>\n",
       "      <td>Rasika Dugal</td>\n",
       "      <td>Vivek Ghamande</td>\n",
       "      <td>Arvind Jangid</td>\n",
       "    </tr>\n",
       "    <tr>\n",
       "      <th>3</th>\n",
       "      <td>#Yaaram</td>\n",
       "      <td>2019</td>\n",
       "      <td>110</td>\n",
       "      <td>4.4</td>\n",
       "      <td>35</td>\n",
       "      <td>Ovais Khan</td>\n",
       "      <td>Prateik</td>\n",
       "      <td>Ishita Raj</td>\n",
       "      <td>Siddhant Kapoor</td>\n",
       "    </tr>\n",
       "    <tr>\n",
       "      <th>5</th>\n",
       "      <td>...Aur Pyaar Ho Gaya</td>\n",
       "      <td>1997</td>\n",
       "      <td>147</td>\n",
       "      <td>4.7</td>\n",
       "      <td>827</td>\n",
       "      <td>Rahul Rawail</td>\n",
       "      <td>Bobby Deol</td>\n",
       "      <td>Aishwarya Rai Bachchan</td>\n",
       "      <td>Shammi Kapoor</td>\n",
       "    </tr>\n",
       "    <tr>\n",
       "      <th>6</th>\n",
       "      <td>...Yahaan</td>\n",
       "      <td>2005</td>\n",
       "      <td>142</td>\n",
       "      <td>7.4</td>\n",
       "      <td>1086</td>\n",
       "      <td>Shoojit Sircar</td>\n",
       "      <td>Jimmy Sheirgill</td>\n",
       "      <td>Minissha Lamba</td>\n",
       "      <td>Yashpal Sharma</td>\n",
       "    </tr>\n",
       "    <tr>\n",
       "      <th>8</th>\n",
       "      <td>?: A Question Mark</td>\n",
       "      <td>2012</td>\n",
       "      <td>82</td>\n",
       "      <td>5.6</td>\n",
       "      <td>326</td>\n",
       "      <td>Allyson Patel</td>\n",
       "      <td>Yash Dave</td>\n",
       "      <td>Muntazir Ahmad</td>\n",
       "      <td>Kiran Bhatia</td>\n",
       "    </tr>\n",
       "  </tbody>\n",
       "</table>\n",
       "</div>"
      ],
      "text/plain": [
       "                                 Name  Year  Duration  Rating  Votes  \\\n",
       "1  #Gadhvi (He thought he was Gandhi)  2019       109     7.0      8   \n",
       "3                             #Yaaram  2019       110     4.4     35   \n",
       "5                ...Aur Pyaar Ho Gaya  1997       147     4.7    827   \n",
       "6                           ...Yahaan  2005       142     7.4   1086   \n",
       "8                  ?: A Question Mark  2012        82     5.6    326   \n",
       "\n",
       "         Director          Actor 1                 Actor 2          Actor 3  \n",
       "1   Gaurav Bakshi     Rasika Dugal          Vivek Ghamande    Arvind Jangid  \n",
       "3      Ovais Khan          Prateik              Ishita Raj  Siddhant Kapoor  \n",
       "5    Rahul Rawail       Bobby Deol  Aishwarya Rai Bachchan    Shammi Kapoor  \n",
       "6  Shoojit Sircar  Jimmy Sheirgill          Minissha Lamba   Yashpal Sharma  \n",
       "8   Allyson Patel        Yash Dave          Muntazir Ahmad     Kiran Bhatia  "
      ]
     },
     "execution_count": 31,
     "metadata": {},
     "output_type": "execute_result"
    }
   ],
   "source": [
    "df.head()"
   ]
  },
  {
   "cell_type": "markdown",
   "id": "9e559e85-8882-4fa0-a370-275b1de777ca",
   "metadata": {},
   "source": [
    "## Feature Engineering:"
   ]
  },
  {
   "cell_type": "code",
   "execution_count": 32,
   "id": "3ac022ce-09fc-47f7-abd2-cb6217ac6dd1",
   "metadata": {},
   "outputs": [
    {
     "data": {
      "text/html": [
       "<div>\n",
       "<style scoped>\n",
       "    .dataframe tbody tr th:only-of-type {\n",
       "        vertical-align: middle;\n",
       "    }\n",
       "\n",
       "    .dataframe tbody tr th {\n",
       "        vertical-align: top;\n",
       "    }\n",
       "\n",
       "    .dataframe thead th {\n",
       "        text-align: right;\n",
       "    }\n",
       "</style>\n",
       "<table border=\"1\" class=\"dataframe\">\n",
       "  <thead>\n",
       "    <tr style=\"text-align: right;\">\n",
       "      <th></th>\n",
       "      <th>Year</th>\n",
       "      <th>Duration</th>\n",
       "      <th>Rating</th>\n",
       "      <th>Votes</th>\n",
       "    </tr>\n",
       "  </thead>\n",
       "  <tbody>\n",
       "    <tr>\n",
       "      <th>1</th>\n",
       "      <td>2019</td>\n",
       "      <td>109</td>\n",
       "      <td>7.0</td>\n",
       "      <td>8</td>\n",
       "    </tr>\n",
       "    <tr>\n",
       "      <th>3</th>\n",
       "      <td>2019</td>\n",
       "      <td>110</td>\n",
       "      <td>4.4</td>\n",
       "      <td>35</td>\n",
       "    </tr>\n",
       "    <tr>\n",
       "      <th>5</th>\n",
       "      <td>1997</td>\n",
       "      <td>147</td>\n",
       "      <td>4.7</td>\n",
       "      <td>827</td>\n",
       "    </tr>\n",
       "    <tr>\n",
       "      <th>6</th>\n",
       "      <td>2005</td>\n",
       "      <td>142</td>\n",
       "      <td>7.4</td>\n",
       "      <td>1086</td>\n",
       "    </tr>\n",
       "    <tr>\n",
       "      <th>8</th>\n",
       "      <td>2012</td>\n",
       "      <td>82</td>\n",
       "      <td>5.6</td>\n",
       "      <td>326</td>\n",
       "    </tr>\n",
       "  </tbody>\n",
       "</table>\n",
       "</div>"
      ],
      "text/plain": [
       "   Year  Duration  Rating  Votes\n",
       "1  2019       109     7.0      8\n",
       "3  2019       110     4.4     35\n",
       "5  1997       147     4.7    827\n",
       "6  2005       142     7.4   1086\n",
       "8  2012        82     5.6    326"
      ]
     },
     "execution_count": 32,
     "metadata": {},
     "output_type": "execute_result"
    }
   ],
   "source": [
    "df.drop(['Name','Director','Actor 1','Actor 2','Actor 3'], axis=1,inplace=True)\n",
    "df.head()"
   ]
  },
  {
   "cell_type": "code",
   "execution_count": 45,
   "id": "cb891a66-7a27-4e2b-9cb6-6acb0bef8760",
   "metadata": {},
   "outputs": [],
   "source": [
    "X = df[['Year','Duration','Votes']]\n",
    "y = df['Rating']"
   ]
  },
  {
   "cell_type": "code",
   "execution_count": 43,
   "id": "e309a412-7023-49cc-9304-6a1d7020b175",
   "metadata": {},
   "outputs": [],
   "source": [
    "# Split the data into training and testing sets\n",
    "X_train, X_test, y_train, y_test = train_test_split(X, y, test_size=0.2,random_state=1000)"
   ]
  },
  {
   "cell_type": "code",
   "execution_count": 37,
   "id": "fac2b42e-ed54-4e7c-9ec1-f2f0537eab3f",
   "metadata": {},
   "outputs": [],
   "source": [
    "# Predict ratings on the test set\n",
    "y_pred_pipeline = pipeline.predict(X_test)"
   ]
  },
  {
   "cell_type": "markdown",
   "id": "09f27512-db75-47cc-91cc-9e4ec97a039d",
   "metadata": {},
   "source": [
    "##  Model Evaluation:"
   ]
  },
  {
   "cell_type": "code",
   "execution_count": 39,
   "id": "8e1c4e90-bb4e-47ec-9fc5-18198a52a502",
   "metadata": {},
   "outputs": [],
   "source": [
    "# Evaluation Metrics for the Pipeline\n",
    "mae_pipeline = mean_absolute_error(y_test, y_pred_pipeline)\n",
    "mse_pipeline = mean_squared_error(y_test, y_pred_pipeline)\n",
    "r2_pipeline = r2_score(y_test, y_pred_pipeline)"
   ]
  },
  {
   "cell_type": "code",
   "execution_count": 40,
   "id": "44cc98b1-e2ba-49d0-9a07-aa4076501b17",
   "metadata": {},
   "outputs": [
    {
     "name": "stdout",
     "output_type": "stream",
     "text": [
      "Pipeline Mean Absolute Error: 1.040142363499226\n",
      "Pipeline Mean Squared Error: 1.75589466147756\n",
      "Pipeline R-squared: 0.037929023872087186\n"
     ]
    }
   ],
   "source": [
    "print(\"Pipeline Mean Absolute Error:\", mae_pipeline)\n",
    "print(\"Pipeline Mean Squared Error:\", mse_pipeline)\n",
    "print(\"Pipeline R-squared:\", r2_pipeline)"
   ]
  },
  {
   "cell_type": "markdown",
   "id": "0b82dc7b-6cff-48a2-91c2-e5c878bbc676",
   "metadata": {},
   "source": [
    "## Model Deployment:"
   ]
  },
  {
   "cell_type": "code",
   "execution_count": 41,
   "id": "d9c7ac39-4951-4364-9d84-edfc4da899c8",
   "metadata": {},
   "outputs": [
    {
     "name": "stdout",
     "output_type": "stream",
     "text": [
      "Predicted Rating: [5.69062882]\n"
     ]
    }
   ],
   "source": [
    "# Take new user input for prediction\n",
    "new_input = pd.DataFrame({\n",
    "    'Year': [2023],          # Replace with the desired year\n",
    "    'Duration': [120],       # Replace with the desired duration in minutes\n",
    "    'Votes': [10000],        # Replace with the desired number of votes\n",
    "})\n",
    "\n",
    "# Use the trained pipeline to make predictions on the input\n",
    "predicted_rating = pipeline.predict(new_input)\n",
    "\n",
    "print(\"Predicted Rating:\", predicted_rating)"
   ]
  },
  {
   "cell_type": "markdown",
   "id": "afa3b529-fc5d-4921-bced-2dc9d919d9e1",
   "metadata": {},
   "source": [
    "## Thank You!!!"
   ]
  },
  {
   "cell_type": "code",
   "execution_count": null,
   "id": "6ff68580-9d63-4ef3-a6d0-484438778ac4",
   "metadata": {},
   "outputs": [],
   "source": []
  }
 ],
 "metadata": {
  "kernelspec": {
   "display_name": "Python 3 (ipykernel)",
   "language": "python",
   "name": "python3"
  },
  "language_info": {
   "codemirror_mode": {
    "name": "ipython",
    "version": 3
   },
   "file_extension": ".py",
   "mimetype": "text/x-python",
   "name": "python",
   "nbconvert_exporter": "python",
   "pygments_lexer": "ipython3",
   "version": "3.11.7"
  }
 },
 "nbformat": 4,
 "nbformat_minor": 5
}
